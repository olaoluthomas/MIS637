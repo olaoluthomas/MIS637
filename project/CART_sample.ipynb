{
 "cells": [
  {
   "cell_type": "markdown",
   "metadata": {},
   "source": [
    "**This notebook builds a CART classifier model on 10% of the entire data**"
   ]
  },
  {
   "cell_type": "code",
   "execution_count": 2,
   "metadata": {},
   "outputs": [],
   "source": [
    "import pandas as pd\n",
    "import numpy as np\n",
    "import matplotlib\n",
    "import matplotlib.pyplot as plt\n",
    "%matplotlib inline\n",
    "matplotlib.style.use('ggplot')\n",
    "import re"
   ]
  },
  {
   "cell_type": "code",
   "execution_count": 3,
   "metadata": {},
   "outputs": [
    {
     "data": {
      "text/html": [
       "<div>\n",
       "<style>\n",
       "    .dataframe thead tr:only-child th {\n",
       "        text-align: right;\n",
       "    }\n",
       "\n",
       "    .dataframe thead th {\n",
       "        text-align: left;\n",
       "    }\n",
       "\n",
       "    .dataframe tbody tr th {\n",
       "        vertical-align: top;\n",
       "    }\n",
       "</style>\n",
       "<table border=\"1\" class=\"dataframe\">\n",
       "  <thead>\n",
       "    <tr style=\"text-align: right;\">\n",
       "      <th></th>\n",
       "      <th>msno</th>\n",
       "      <th>Sum_num_unq</th>\n",
       "      <th>Avg_num_unq</th>\n",
       "      <th>Sum_total_number_songs</th>\n",
       "      <th>Avg_total_number_songs</th>\n",
       "      <th>Sum_total_secs</th>\n",
       "      <th>Avg_total_secs</th>\n",
       "      <th>Avg_total_score</th>\n",
       "      <th>bd</th>\n",
       "      <th>registered_via</th>\n",
       "      <th>...</th>\n",
       "      <th>city_15</th>\n",
       "      <th>city_16</th>\n",
       "      <th>city_17</th>\n",
       "      <th>city_18</th>\n",
       "      <th>city_19</th>\n",
       "      <th>city_20</th>\n",
       "      <th>city_22</th>\n",
       "      <th>is_female</th>\n",
       "      <th>is_male</th>\n",
       "      <th>is_missing</th>\n",
       "    </tr>\n",
       "  </thead>\n",
       "  <tbody>\n",
       "    <tr>\n",
       "      <th>0</th>\n",
       "      <td>+++hVY1rZox/33YtvDgmKA2Frg/2qhkz12B9ylCvh8o=</td>\n",
       "      <td>885.0</td>\n",
       "      <td>28.548387</td>\n",
       "      <td>1089.0</td>\n",
       "      <td>35.129032</td>\n",
       "      <td>192527.891052</td>\n",
       "      <td>6210.577131</td>\n",
       "      <td>46.353226</td>\n",
       "      <td>28.0</td>\n",
       "      <td>7.0</td>\n",
       "      <td>...</td>\n",
       "      <td>0</td>\n",
       "      <td>0</td>\n",
       "      <td>0</td>\n",
       "      <td>0</td>\n",
       "      <td>0</td>\n",
       "      <td>0</td>\n",
       "      <td>0</td>\n",
       "      <td>0</td>\n",
       "      <td>0</td>\n",
       "      <td>1</td>\n",
       "    </tr>\n",
       "    <tr>\n",
       "      <th>1</th>\n",
       "      <td>+++l/EXNMLTijfLBa8p2TUVVVp2aFGSuUI/h7mLmthw=</td>\n",
       "      <td>468.0</td>\n",
       "      <td>16.714286</td>\n",
       "      <td>567.0</td>\n",
       "      <td>20.250000</td>\n",
       "      <td>115411.258972</td>\n",
       "      <td>4121.830678</td>\n",
       "      <td>35.864643</td>\n",
       "      <td>NaN</td>\n",
       "      <td>NaN</td>\n",
       "      <td>...</td>\n",
       "      <td>0</td>\n",
       "      <td>0</td>\n",
       "      <td>0</td>\n",
       "      <td>0</td>\n",
       "      <td>0</td>\n",
       "      <td>0</td>\n",
       "      <td>0</td>\n",
       "      <td>0</td>\n",
       "      <td>0</td>\n",
       "      <td>0</td>\n",
       "    </tr>\n",
       "    <tr>\n",
       "      <th>2</th>\n",
       "      <td>+++snpr7pmobhLKUgSHTv/mpkqgBT0tQJ0zQj6qKrqc=</td>\n",
       "      <td>828.0</td>\n",
       "      <td>39.428571</td>\n",
       "      <td>970.0</td>\n",
       "      <td>46.190476</td>\n",
       "      <td>149896.558472</td>\n",
       "      <td>7137.931356</td>\n",
       "      <td>51.978095</td>\n",
       "      <td>28.0</td>\n",
       "      <td>7.0</td>\n",
       "      <td>...</td>\n",
       "      <td>0</td>\n",
       "      <td>0</td>\n",
       "      <td>0</td>\n",
       "      <td>0</td>\n",
       "      <td>0</td>\n",
       "      <td>0</td>\n",
       "      <td>0</td>\n",
       "      <td>0</td>\n",
       "      <td>0</td>\n",
       "      <td>1</td>\n",
       "    </tr>\n",
       "    <tr>\n",
       "      <th>3</th>\n",
       "      <td>++/9R3sX37CjxbY/AaGvbwr3QkwElKBCtSvVzhCBDOk=</td>\n",
       "      <td>230.0</td>\n",
       "      <td>7.931034</td>\n",
       "      <td>682.0</td>\n",
       "      <td>23.517241</td>\n",
       "      <td>116433.246857</td>\n",
       "      <td>4014.939547</td>\n",
       "      <td>36.092069</td>\n",
       "      <td>21.0</td>\n",
       "      <td>7.0</td>\n",
       "      <td>...</td>\n",
       "      <td>0</td>\n",
       "      <td>0</td>\n",
       "      <td>0</td>\n",
       "      <td>1</td>\n",
       "      <td>0</td>\n",
       "      <td>0</td>\n",
       "      <td>0</td>\n",
       "      <td>0</td>\n",
       "      <td>1</td>\n",
       "      <td>0</td>\n",
       "    </tr>\n",
       "    <tr>\n",
       "      <th>4</th>\n",
       "      <td>++/UDNo9DLrxT8QVGiDi1OnWfczAdEwThaVyD0fXO50=</td>\n",
       "      <td>223.0</td>\n",
       "      <td>10.619048</td>\n",
       "      <td>233.0</td>\n",
       "      <td>11.095238</td>\n",
       "      <td>36636.637947</td>\n",
       "      <td>1744.601807</td>\n",
       "      <td>13.830476</td>\n",
       "      <td>NaN</td>\n",
       "      <td>NaN</td>\n",
       "      <td>...</td>\n",
       "      <td>0</td>\n",
       "      <td>0</td>\n",
       "      <td>0</td>\n",
       "      <td>0</td>\n",
       "      <td>0</td>\n",
       "      <td>0</td>\n",
       "      <td>0</td>\n",
       "      <td>0</td>\n",
       "      <td>0</td>\n",
       "      <td>0</td>\n",
       "    </tr>\n",
       "  </tbody>\n",
       "</table>\n",
       "<p>5 rows × 147 columns</p>\n",
       "</div>"
      ],
      "text/plain": [
       "                                           msno  Sum_num_unq  Avg_num_unq  \\\n",
       "0  +++hVY1rZox/33YtvDgmKA2Frg/2qhkz12B9ylCvh8o=        885.0    28.548387   \n",
       "1  +++l/EXNMLTijfLBa8p2TUVVVp2aFGSuUI/h7mLmthw=        468.0    16.714286   \n",
       "2  +++snpr7pmobhLKUgSHTv/mpkqgBT0tQJ0zQj6qKrqc=        828.0    39.428571   \n",
       "3  ++/9R3sX37CjxbY/AaGvbwr3QkwElKBCtSvVzhCBDOk=        230.0     7.931034   \n",
       "4  ++/UDNo9DLrxT8QVGiDi1OnWfczAdEwThaVyD0fXO50=        223.0    10.619048   \n",
       "\n",
       "   Sum_total_number_songs  Avg_total_number_songs  Sum_total_secs  \\\n",
       "0                  1089.0               35.129032   192527.891052   \n",
       "1                   567.0               20.250000   115411.258972   \n",
       "2                   970.0               46.190476   149896.558472   \n",
       "3                   682.0               23.517241   116433.246857   \n",
       "4                   233.0               11.095238    36636.637947   \n",
       "\n",
       "   Avg_total_secs  Avg_total_score    bd  registered_via     ...     city_15  \\\n",
       "0     6210.577131        46.353226  28.0             7.0     ...           0   \n",
       "1     4121.830678        35.864643   NaN             NaN     ...           0   \n",
       "2     7137.931356        51.978095  28.0             7.0     ...           0   \n",
       "3     4014.939547        36.092069  21.0             7.0     ...           0   \n",
       "4     1744.601807        13.830476   NaN             NaN     ...           0   \n",
       "\n",
       "  city_16  city_17  city_18  city_19  city_20  city_22  is_female  is_male  \\\n",
       "0       0        0        0        0        0        0          0        0   \n",
       "1       0        0        0        0        0        0          0        0   \n",
       "2       0        0        0        0        0        0          0        0   \n",
       "3       0        0        1        0        0        0          0        1   \n",
       "4       0        0        0        0        0        0          0        0   \n",
       "\n",
       "   is_missing  \n",
       "0           1  \n",
       "1           0  \n",
       "2           1  \n",
       "3           0  \n",
       "4           0  \n",
       "\n",
       "[5 rows x 147 columns]"
      ]
     },
     "execution_count": 3,
     "metadata": {},
     "output_type": "execute_result"
    }
   ],
   "source": [
    "data = pd.read_csv('finaltrain_V2.csv')\n",
    "data.head()"
   ]
  },
  {
   "cell_type": "code",
   "execution_count": 4,
   "metadata": {},
   "outputs": [],
   "source": [
    "# creating a function to snakify column names\n",
    "def snakify(column_name):\n",
    "    s1 = re.sub('(.)([A-Z][a-z]+)', r'\\1_\\2', column_name)\n",
    "    return re.sub('([a-z0-9])([A-Z])', r'\\1_\\2', s1).lower()"
   ]
  },
  {
   "cell_type": "code",
   "execution_count": 5,
   "metadata": {},
   "outputs": [],
   "source": [
    "data.columns = [snakify(col) for col in data.columns]"
   ]
  },
  {
   "cell_type": "code",
   "execution_count": 6,
   "metadata": {},
   "outputs": [
    {
     "data": {
      "text/html": [
       "<div>\n",
       "<style>\n",
       "    .dataframe thead tr:only-child th {\n",
       "        text-align: right;\n",
       "    }\n",
       "\n",
       "    .dataframe thead th {\n",
       "        text-align: left;\n",
       "    }\n",
       "\n",
       "    .dataframe tbody tr th {\n",
       "        vertical-align: top;\n",
       "    }\n",
       "</style>\n",
       "<table border=\"1\" class=\"dataframe\">\n",
       "  <thead>\n",
       "    <tr style=\"text-align: right;\">\n",
       "      <th></th>\n",
       "      <th>msno</th>\n",
       "      <th>sum_num_unq</th>\n",
       "      <th>avg_num_unq</th>\n",
       "      <th>sum_total_number_songs</th>\n",
       "      <th>avg_total_number_songs</th>\n",
       "      <th>sum_total_secs</th>\n",
       "      <th>avg_total_secs</th>\n",
       "      <th>avg_total_score</th>\n",
       "      <th>bd</th>\n",
       "      <th>registered_via</th>\n",
       "      <th>registration_init_time</th>\n",
       "      <th>registration_init_days</th>\n",
       "      <th>no_of_transactions</th>\n",
       "      <th>no_of_cancellations</th>\n",
       "      <th>cancelled</th>\n",
       "      <th>total_amount_paid</th>\n",
       "      <th>is_auto_renew</th>\n",
       "    </tr>\n",
       "  </thead>\n",
       "  <tbody>\n",
       "    <tr>\n",
       "      <th>0</th>\n",
       "      <td>+++hVY1rZox/33YtvDgmKA2Frg/2qhkz12B9ylCvh8o=</td>\n",
       "      <td>885.0</td>\n",
       "      <td>28.548387</td>\n",
       "      <td>1089.0</td>\n",
       "      <td>35.129032</td>\n",
       "      <td>192527.891052</td>\n",
       "      <td>6210.577131</td>\n",
       "      <td>46.353226</td>\n",
       "      <td>28.0</td>\n",
       "      <td>7.0</td>\n",
       "      <td>2014-06-08</td>\n",
       "      <td>16229 days 00:00:00.000000000</td>\n",
       "      <td>1</td>\n",
       "      <td>0</td>\n",
       "      <td>0</td>\n",
       "      <td>99.0</td>\n",
       "      <td>1.0</td>\n",
       "    </tr>\n",
       "    <tr>\n",
       "      <th>1</th>\n",
       "      <td>+++l/EXNMLTijfLBa8p2TUVVVp2aFGSuUI/h7mLmthw=</td>\n",
       "      <td>468.0</td>\n",
       "      <td>16.714286</td>\n",
       "      <td>567.0</td>\n",
       "      <td>20.250000</td>\n",
       "      <td>115411.258972</td>\n",
       "      <td>4121.830678</td>\n",
       "      <td>35.864643</td>\n",
       "      <td>NaN</td>\n",
       "      <td>NaN</td>\n",
       "      <td>NaN</td>\n",
       "      <td>NaN</td>\n",
       "      <td>2</td>\n",
       "      <td>0</td>\n",
       "      <td>0</td>\n",
       "      <td>298.0</td>\n",
       "      <td>1.0</td>\n",
       "    </tr>\n",
       "    <tr>\n",
       "      <th>2</th>\n",
       "      <td>+++snpr7pmobhLKUgSHTv/mpkqgBT0tQJ0zQj6qKrqc=</td>\n",
       "      <td>828.0</td>\n",
       "      <td>39.428571</td>\n",
       "      <td>970.0</td>\n",
       "      <td>46.190476</td>\n",
       "      <td>149896.558472</td>\n",
       "      <td>7137.931356</td>\n",
       "      <td>51.978095</td>\n",
       "      <td>28.0</td>\n",
       "      <td>7.0</td>\n",
       "      <td>2014-09-27</td>\n",
       "      <td>16340 days 00:00:00.000000000</td>\n",
       "      <td>1</td>\n",
       "      <td>0</td>\n",
       "      <td>0</td>\n",
       "      <td>149.0</td>\n",
       "      <td>1.0</td>\n",
       "    </tr>\n",
       "    <tr>\n",
       "      <th>3</th>\n",
       "      <td>++/9R3sX37CjxbY/AaGvbwr3QkwElKBCtSvVzhCBDOk=</td>\n",
       "      <td>230.0</td>\n",
       "      <td>7.931034</td>\n",
       "      <td>682.0</td>\n",
       "      <td>23.517241</td>\n",
       "      <td>116433.246857</td>\n",
       "      <td>4014.939547</td>\n",
       "      <td>36.092069</td>\n",
       "      <td>21.0</td>\n",
       "      <td>7.0</td>\n",
       "      <td>2016-03-15</td>\n",
       "      <td>16875 days 00:00:00.000000000</td>\n",
       "      <td>1</td>\n",
       "      <td>0</td>\n",
       "      <td>0</td>\n",
       "      <td>149.0</td>\n",
       "      <td>1.0</td>\n",
       "    </tr>\n",
       "    <tr>\n",
       "      <th>4</th>\n",
       "      <td>++/UDNo9DLrxT8QVGiDi1OnWfczAdEwThaVyD0fXO50=</td>\n",
       "      <td>223.0</td>\n",
       "      <td>10.619048</td>\n",
       "      <td>233.0</td>\n",
       "      <td>11.095238</td>\n",
       "      <td>36636.637947</td>\n",
       "      <td>1744.601807</td>\n",
       "      <td>13.830476</td>\n",
       "      <td>NaN</td>\n",
       "      <td>NaN</td>\n",
       "      <td>NaN</td>\n",
       "      <td>NaN</td>\n",
       "      <td>2</td>\n",
       "      <td>0</td>\n",
       "      <td>0</td>\n",
       "      <td>298.0</td>\n",
       "      <td>1.0</td>\n",
       "    </tr>\n",
       "  </tbody>\n",
       "</table>\n",
       "</div>"
      ],
      "text/plain": [
       "                                           msno  sum_num_unq  avg_num_unq  \\\n",
       "0  +++hVY1rZox/33YtvDgmKA2Frg/2qhkz12B9ylCvh8o=        885.0    28.548387   \n",
       "1  +++l/EXNMLTijfLBa8p2TUVVVp2aFGSuUI/h7mLmthw=        468.0    16.714286   \n",
       "2  +++snpr7pmobhLKUgSHTv/mpkqgBT0tQJ0zQj6qKrqc=        828.0    39.428571   \n",
       "3  ++/9R3sX37CjxbY/AaGvbwr3QkwElKBCtSvVzhCBDOk=        230.0     7.931034   \n",
       "4  ++/UDNo9DLrxT8QVGiDi1OnWfczAdEwThaVyD0fXO50=        223.0    10.619048   \n",
       "\n",
       "   sum_total_number_songs  avg_total_number_songs  sum_total_secs  \\\n",
       "0                  1089.0               35.129032   192527.891052   \n",
       "1                   567.0               20.250000   115411.258972   \n",
       "2                   970.0               46.190476   149896.558472   \n",
       "3                   682.0               23.517241   116433.246857   \n",
       "4                   233.0               11.095238    36636.637947   \n",
       "\n",
       "   avg_total_secs  avg_total_score    bd  registered_via  \\\n",
       "0     6210.577131        46.353226  28.0             7.0   \n",
       "1     4121.830678        35.864643   NaN             NaN   \n",
       "2     7137.931356        51.978095  28.0             7.0   \n",
       "3     4014.939547        36.092069  21.0             7.0   \n",
       "4     1744.601807        13.830476   NaN             NaN   \n",
       "\n",
       "  registration_init_time         registration_init_days  no_of_transactions  \\\n",
       "0             2014-06-08  16229 days 00:00:00.000000000                   1   \n",
       "1                    NaN                            NaN                   2   \n",
       "2             2014-09-27  16340 days 00:00:00.000000000                   1   \n",
       "3             2016-03-15  16875 days 00:00:00.000000000                   1   \n",
       "4                    NaN                            NaN                   2   \n",
       "\n",
       "   no_of_cancellations  cancelled  total_amount_paid  is_auto_renew  \n",
       "0                    0          0               99.0            1.0  \n",
       "1                    0          0              298.0            1.0  \n",
       "2                    0          0              149.0            1.0  \n",
       "3                    0          0              149.0            1.0  \n",
       "4                    0          0              298.0            1.0  "
      ]
     },
     "execution_count": 6,
     "metadata": {},
     "output_type": "execute_result"
    }
   ],
   "source": [
    "data[lambda data: data.columns[:17]].head()"
   ]
  },
  {
   "cell_type": "code",
   "execution_count": 7,
   "metadata": {},
   "outputs": [
    {
     "data": {
      "text/plain": [
       "msno                           0\n",
       "sum_num_unq               216409\n",
       "avg_num_unq               216409\n",
       "sum_total_number_songs    216409\n",
       "avg_total_number_songs    216409\n",
       "sum_total_secs            216409\n",
       "avg_total_secs            216409\n",
       "avg_total_score           216409\n",
       "bd                        271468\n",
       "registered_via            271468\n",
       "registration_init_time    271468\n",
       "registration_init_days    271468\n",
       "no_of_transactions             0\n",
       "no_of_cancellations            0\n",
       "cancelled                      0\n",
       "total_amount_paid          37382\n",
       "is_auto_renew              37382\n",
       "dtype: int64"
      ]
     },
     "execution_count": 7,
     "metadata": {},
     "output_type": "execute_result"
    }
   ],
   "source": [
    "data[lambda data: data.columns[:17]].isnull().sum()"
   ]
  },
  {
   "cell_type": "code",
   "execution_count": 8,
   "metadata": {},
   "outputs": [],
   "source": [
    "data['registration_init_days'] = data['registration_init_days'].str.replace(\" days 00:00:00.000000000\",\"\").astype(float)"
   ]
  },
  {
   "cell_type": "code",
   "execution_count": 9,
   "metadata": {},
   "outputs": [],
   "source": [
    "cat = ['registered_via', 'is_auto_renew']\n",
    "intgr = ['sum_num_unq', 'avg_num_unq', 'sum_total_number_songs', 'avg_total_number_songs', 'sum_total_secs', 'avg_total_secs',\n",
    "        'avg_total_score', 'bd', 'registration_init_days', 'total_amount_paid']"
   ]
  },
  {
   "cell_type": "code",
   "execution_count": 10,
   "metadata": {},
   "outputs": [],
   "source": [
    "from sklearn.model_selection import GridSearchCV, StratifiedShuffleSplit, StratifiedKFold\n",
    "from sklearn.tree import DecisionTreeClassifier as CART\n",
    "from sklearn.metrics import accuracy_score, roc_auc_score, confusion_matrix, precision_recall_curve, f1_score\n",
    "from sklearn.preprocessing import Imputer"
   ]
  },
  {
   "cell_type": "code",
   "execution_count": 11,
   "metadata": {},
   "outputs": [],
   "source": [
    "# dropping column that holds the same info as 'registration_init_days'\n",
    "data = data.drop(['registration_init_time'], axis=1)\n",
    "\n",
    "# imputing median values to nulls of continuous variables and mode to categoricals\n",
    "imp_int = Imputer(strategy='median')\n",
    "imp_cat = Imputer(strategy='most_frequent')\n",
    "\n",
    "data[intgr] = imp_int.fit_transform(data[intgr])\n",
    "data[cat] = imp_cat.fit_transform(data[cat])"
   ]
  },
  {
   "cell_type": "code",
   "execution_count": 12,
   "metadata": {},
   "outputs": [
    {
     "data": {
      "text/plain": [
       "970960"
      ]
     },
     "execution_count": 12,
     "metadata": {},
     "output_type": "execute_result"
    }
   ],
   "source": [
    "len(data)"
   ]
  },
  {
   "cell_type": "code",
   "execution_count": 13,
   "metadata": {},
   "outputs": [],
   "source": [
    "X, y = data.drop(['is_churn', 'msno'], axis=1), data['is_churn']\n",
    "\n",
    "# creating a sample of almost 100,000 rows of the data\n",
    "s_100k = StratifiedShuffleSplit(n_splits=5, test_size=0.1, random_state=13)\n",
    "for train_index, test_index in s_100k.split(X, y):\n",
    "    X_hold, y_hold = X.loc[train_index], y.loc[train_index]\n",
    "    # creating the sample to run CART on\n",
    "    X_sample, y_sample = X.loc[test_index], y.loc[test_index]"
   ]
  },
  {
   "cell_type": "code",
   "execution_count": 14,
   "metadata": {},
   "outputs": [
    {
     "name": "stdout",
     "output_type": "stream",
     "text": [
      "97096\n"
     ]
    },
    {
     "data": {
      "text/plain": [
       "0    88363\n",
       "1     8733\n",
       "Name: is_churn, dtype: int64"
      ]
     },
     "execution_count": 14,
     "metadata": {},
     "output_type": "execute_result"
    }
   ],
   "source": [
    "print len(y_sample)\n",
    "y_sample.value_counts()"
   ]
  },
  {
   "cell_type": "code",
   "execution_count": 15,
   "metadata": {},
   "outputs": [],
   "source": [
    "# resetting the index of X & y samples prior to creating train and test sets since these dataframes are indexed out of order\n",
    "X_sample.reset_index(drop=True, inplace=True)\n",
    "y_sample.reset_index(drop=True, inplace=True)"
   ]
  },
  {
   "cell_type": "code",
   "execution_count": 16,
   "metadata": {},
   "outputs": [
    {
     "data": {
      "text/plain": [
       "0    0\n",
       "1    1\n",
       "2    0\n",
       "3    0\n",
       "4    0\n",
       "Name: is_churn, dtype: int64"
      ]
     },
     "execution_count": 16,
     "metadata": {},
     "output_type": "execute_result"
    }
   ],
   "source": [
    "y_sample.head()"
   ]
  },
  {
   "cell_type": "code",
   "execution_count": 17,
   "metadata": {},
   "outputs": [],
   "source": [
    "# splitting sample into train and test\n",
    "s_sample = StratifiedShuffleSplit(test_size=0.3, random_state=13)\n",
    "for tr_index, te_index in s_sample.split(X_sample, y_sample):\n",
    "    X_train, y_train = X_sample.loc[tr_index], y_sample.loc[tr_index]\n",
    "    X_test, y_test = X_sample.loc[te_index], y_sample.loc[te_index]"
   ]
  },
  {
   "cell_type": "code",
   "execution_count": 18,
   "metadata": {},
   "outputs": [
    {
     "name": "stdout",
     "output_type": "stream",
     "text": [
      "67967\n",
      "29129\n"
     ]
    },
    {
     "data": {
      "text/plain": [
       "0    26509\n",
       "1     2620\n",
       "Name: is_churn, dtype: int64"
      ]
     },
     "execution_count": 18,
     "metadata": {},
     "output_type": "execute_result"
    }
   ],
   "source": [
    "print len(y_train)\n",
    "print len(y_test)\n",
    "y_test.value_counts()"
   ]
  },
  {
   "cell_type": "code",
   "execution_count": 19,
   "metadata": {},
   "outputs": [
    {
     "data": {
      "text/plain": [
       "DecisionTreeClassifier(class_weight=None, criterion='gini', max_depth=None,\n",
       "            max_features=None, max_leaf_nodes=None,\n",
       "            min_impurity_decrease=0.0, min_impurity_split=None,\n",
       "            min_samples_leaf=1, min_samples_split=2,\n",
       "            min_weight_fraction_leaf=0.0, presort=False, random_state=None,\n",
       "            splitter='best')"
      ]
     },
     "execution_count": 19,
     "metadata": {},
     "output_type": "execute_result"
    }
   ],
   "source": [
    "cart_1 = CART()\n",
    "cart_1.fit(X_train, y_train)"
   ]
  },
  {
   "cell_type": "code",
   "execution_count": 20,
   "metadata": {},
   "outputs": [
    {
     "name": "stdout",
     "output_type": "stream",
     "text": [
      "0.422743692502 plan_days_30\n",
      "0.130539476492 no_of_cancellations\n",
      "0.0607627174495 registration_init_days\n",
      "0.0495693408944 total_amount_paid\n",
      "0.0481132546769 no_of_transactions\n",
      "0.0360698495654 sum_num_unq\n",
      "0.0308611983196 sum_total_secs\n",
      "0.0304285413711 avg_total_score\n",
      "0.0302635036913 avg_total_number_songs\n",
      "0.0295565142231 sum_total_number_songs\n",
      "0.0275945490834 avg_num_unq\n",
      "0.0267994056346 avg_total_secs\n",
      "0.0143259161873 is_auto_renew\n",
      "0.0112142622403 payment_method_41\n",
      "0.0097603322755 payment_method_39\n",
      "0.00879087162107 bd\n",
      "0.0039405700315 is_missing\n",
      "0.0019924029073 payment_method_40\n",
      "0.00188464181178 payment_method_29\n",
      "0.0018115312552 list_price_149\n",
      "0.00168773621738 is_male\n",
      "0.00143999516325 registered_via\n",
      "0.00140878020864 city_13\n",
      "0.00139856901281 city_15\n",
      "0.00106461566747 is_female\n",
      "0.00103659650572 city_1\n",
      "0.000980964010044 city_22\n",
      "0.000956315544647 city_4\n",
      "0.000869391550016 payment_method_36\n",
      "0.000856477359818 payment_method_30\n",
      "0.000801191824816 plan_days_60\n",
      "0.00076271091285 payment_method_32\n",
      "0.000757443535304 city_5\n",
      "0.000735094345271 payment_method_26\n",
      "0.000653546575142 list_price_180\n",
      "0.000642788947056 list_price_100\n",
      "0.000637625952947 city_8\n",
      "0.000632216171417 city_11\n",
      "0.000603803379291 list_price_129\n",
      "0.000570680529855 city_6\n",
      "0.000565733616827 city_10\n",
      "0.000516136893869 payment_method_38\n",
      "0.000514724145424 payment_method_37\n",
      "0.000491610745391 city_17\n",
      "0.000445770285773 city_12\n",
      "0.000435961335655 city_7\n",
      "0.000290027387731 city_9\n",
      "0.000247256057275 city_14\n",
      "0.000227241598988 list_price_150\n",
      "0.000174575714103 payment_method_28\n",
      "0.000166753719773 city_18\n",
      "0.000161925300037 payment_method_33\n",
      "0.000121443975028 payment_method_17\n",
      "5.74098791041e-05 city_3\n",
      "4.74287956528e-05 payment_method_34\n",
      "1.67493698601e-05 list_price_99\n",
      "1.35532680866e-07 plan_days_0\n",
      "0.0 plan_days_90\n",
      "0.0 plan_days_80\n",
      "0.0 plan_days_70\n",
      "0.0 plan_days_7\n",
      "0.0 plan_days_450\n",
      "0.0 plan_days_415\n",
      "0.0 plan_days_410\n",
      "0.0 plan_days_400\n",
      "0.0 plan_days_395\n",
      "0.0 plan_days_365\n",
      "0.0 plan_days_360\n",
      "0.0 plan_days_35\n",
      "0.0 plan_days_31\n",
      "0.0 plan_days_3\n",
      "0.0 plan_days_270\n",
      "0.0 plan_days_240\n",
      "0.0 plan_days_230\n",
      "0.0 plan_days_21\n",
      "0.0 plan_days_200\n",
      "0.0 plan_days_195\n",
      "0.0 plan_days_180\n",
      "0.0 plan_days_14\n",
      "0.0 plan_days_120\n",
      "0.0 plan_days_110\n",
      "0.0 plan_days_100\n",
      "0.0 plan_days_10\n",
      "0.0 plan_days_1\n",
      "0.0 payment_method_8\n",
      "0.0 payment_method_6\n",
      "0.0 payment_method_35\n",
      "0.0 payment_method_31\n",
      "0.0 payment_method_3\n",
      "0.0 payment_method_27\n",
      "0.0 payment_method_23\n",
      "0.0 payment_method_22\n",
      "0.0 payment_method_21\n",
      "0.0 payment_method_20\n",
      "0.0 payment_method_19\n",
      "0.0 payment_method_18\n",
      "0.0 payment_method_16\n",
      "0.0 payment_method_15\n",
      "0.0 payment_method_14\n",
      "0.0 payment_method_13\n",
      "0.0 payment_method_12\n",
      "0.0 payment_method_11\n",
      "0.0 payment_method_10\n",
      "0.0 list_price_930\n",
      "0.0 list_price_894\n",
      "0.0 list_price_799\n",
      "0.0 list_price_70\n",
      "0.0 list_price_699\n",
      "0.0 list_price_600\n",
      "0.0 list_price_596\n",
      "0.0 list_price_536\n",
      "0.0 list_price_500\n",
      "0.0 list_price_480\n",
      "0.0 list_price_477\n",
      "0.0 list_price_450\n",
      "0.0 list_price_447\n",
      "0.0 list_price_400\n",
      "0.0 list_price_350\n",
      "0.0 list_price_35\n",
      "0.0 list_price_300\n",
      "0.0 list_price_298\n",
      "0.0 list_price_265\n",
      "0.0 list_price_210\n",
      "0.0 list_price_2000\n",
      "0.0 list_price_1788\n",
      "0.0 list_price_1599\n",
      "0.0 list_price_143\n",
      "0.0 list_price_1399\n",
      "0.0 list_price_134\n",
      "0.0 list_price_131\n",
      "0.0 list_price_1299\n",
      "0.0 list_price_126\n",
      "0.0 list_price_1200\n",
      "0.0 list_price_120\n",
      "0.0 list_price_119\n",
      "0.0 list_price_1150\n",
      "0.0 list_price_105\n",
      "0.0 list_price_1000\n",
      "0.0 list_price_1\n",
      "0.0 list_price_0\n",
      "0.0 city_20\n",
      "0.0 city_19\n",
      "0.0 city_16\n",
      "0.0 cancelled\n"
     ]
    }
   ],
   "source": [
    "for score, feature in sorted(zip(cart_1.feature_importances_, X_train.columns), reverse=True):\n",
    "    print score, feature"
   ]
  },
  {
   "cell_type": "code",
   "execution_count": 21,
   "metadata": {},
   "outputs": [],
   "source": [
    "y_pred = cart_1.predict(X_test)"
   ]
  },
  {
   "cell_type": "code",
   "execution_count": 22,
   "metadata": {},
   "outputs": [
    {
     "data": {
      "text/plain": [
       "0.9551649558858869"
      ]
     },
     "execution_count": 22,
     "metadata": {},
     "output_type": "execute_result"
    }
   ],
   "source": [
    "cart_1.score(X_test, y_test)"
   ]
  },
  {
   "cell_type": "code",
   "execution_count": 23,
   "metadata": {},
   "outputs": [
    {
     "data": {
      "text/plain": [
       "array([[25814,   695],\n",
       "       [  611,  2009]], dtype=int64)"
      ]
     },
     "execution_count": 23,
     "metadata": {},
     "output_type": "execute_result"
    }
   ],
   "source": [
    "confusion_matrix(y_test, y_pred)"
   ]
  },
  {
   "cell_type": "markdown",
   "metadata": {},
   "source": [
    "**4.5% missclassified**"
   ]
  },
  {
   "cell_type": "code",
   "execution_count": 24,
   "metadata": {},
   "outputs": [
    {
     "data": {
      "text/plain": [
       "0.75469571750563491"
      ]
     },
     "execution_count": 24,
     "metadata": {},
     "output_type": "execute_result"
    }
   ],
   "source": [
    "f1_score(y_test, y_pred)"
   ]
  },
  {
   "cell_type": "code",
   "execution_count": 25,
   "metadata": {},
   "outputs": [
    {
     "data": {
      "text/plain": [
       "<matplotlib.text.Text at 0x4d454dd8>"
      ]
     },
     "execution_count": 25,
     "metadata": {},
     "output_type": "execute_result"
    },
    {
     "data": {
      "image/png": "[encoded data removed]",
      "text/plain": [
       "<matplotlib.figure.Figure at 0x9afd9b0>"
      ]
     },
     "metadata": {},
     "output_type": "display_data"
    }
   ],
   "source": [
    "precision, recall, thresholds = precision_recall_curve(y_test, y_pred)\n",
    "\n",
    "plt.step(recall, precision, alpha=0.2, where='post', color='b')\n",
    "plt.fill_between(recall, precision, step='post', alpha=0.2)\n",
    "plt.xlabel('Recall')\n",
    "plt.ylabel('Precision')\n",
    "plt.ylim([0.0, 1.0])\n",
    "plt.xlim([0.0, 1.0])\n",
    "plt.title('Precision-Recall curve')"
   ]
  },
  {
   "cell_type": "code",
   "execution_count": 27,
   "metadata": {},
   "outputs": [
    {
     "name": "stdout",
     "output_type": "stream",
     "text": [
      "0.760945846699\n"
     ]
    },
    {
     "data": {
      "text/plain": [
       "array([[775169,  20098],\n",
       "       [ 17985,  60612]], dtype=int64)"
      ]
     },
     "execution_count": 27,
     "metadata": {},
     "output_type": "execute_result"
    }
   ],
   "source": [
    "# Running the model on the data held out (873864 observations)\n",
    "y_hold_pred = cart_1.predict(X_hold)\n",
    "print f1_score(y_hold, y_hold_pred)\n",
    "confusion_matrix(y_hold, y_hold_pred)"
   ]
  },
  {
   "cell_type": "code",
   "execution_count": 29,
   "metadata": {},
   "outputs": [
    {
     "data": {
      "text/plain": [
       "0.9564199921269213"
      ]
     },
     "execution_count": 29,
     "metadata": {},
     "output_type": "execute_result"
    }
   ],
   "source": [
    "cart_1.score(X_hold, y_hold)"
   ]
  },
  {
   "cell_type": "markdown",
   "metadata": {},
   "source": [
    "**4.3% misclassified**"
   ]
  },
  {
   "cell_type": "markdown",
   "metadata": {},
   "source": [
    "**We shall adopt cross-validation in the next phase of the learning process and re-evaluate our model**"
   ]
  }
 ],
 "metadata": {
  "kernelspec": {
   "display_name": "Python [conda root]",
   "language": "python",
   "name": "conda-root-py"
  }
 },
 "nbformat": 4,
 "nbformat_minor": 2
}
