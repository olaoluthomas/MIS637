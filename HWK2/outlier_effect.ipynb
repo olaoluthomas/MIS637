{
 "cells": [
  {
   "cell_type": "markdown",
   "metadata": {},
   "source": [
    "# Simeon Thomas MIS637 Hwk 2\n",
    "\n",
    "## Creating a set of numbers and finding out the effect of an introduced outlier"
   ]
  },
  {
   "cell_type": "code",
   "execution_count": 1,
   "metadata": {
    "collapsed": true
   },
   "outputs": [],
   "source": [
    "# I import numpy\n",
    "\n",
    "import numpy as np"
   ]
  },
  {
   "cell_type": "markdown",
   "metadata": {},
   "source": [
    "** I define two functions; the first will return the mean and median of an array as a tuple, the second computes the iqr **"
   ]
  },
  {
   "cell_type": "code",
   "execution_count": 2,
   "metadata": {
    "collapsed": true
   },
   "outputs": [],
   "source": [
    "def mean_med(array):\n",
    "    mean = np.average(array)\n",
    "    median = np.median(array)\n",
    "    return mean, median\n",
    "\n",
    "def iqr(array):\n",
    "    rng = np.subtract(*np.percentile(array, [75,25]))\n",
    "    return rng"
   ]
  },
  {
   "cell_type": "markdown",
   "metadata": {},
   "source": [
    "** I pick an array of floating point numbers chosen at random from a definite range. I then create a second array from the first one with a clear outlier **"
   ]
  },
  {
   "cell_type": "code",
   "execution_count": 3,
   "metadata": {},
   "outputs": [
    {
     "name": "stdout",
     "output_type": "stream",
     "text": [
      "[ 82.29536382  95.50396798  91.80176014  87.71047088  90.90176631\n",
      "  80.89695867  91.3517465 ]\n"
     ]
    },
    {
     "data": {
      "text/plain": [
       "array([ 82.29536382,  95.50396798,  91.80176014,  87.71047088,\n",
       "        90.90176631,  80.89695867,  91.3517465 ,   5.        ])"
      ]
     },
     "execution_count": 3,
     "metadata": {},
     "output_type": "execute_result"
    }
   ],
   "source": [
    "# The array \"ray\" has 7 values between 80 and 100\n",
    "\n",
    "ray = np.random.uniform(low=80.0, high=100.0, size=(7,))\n",
    "\n",
    "# The array \"out_ray\" is created from \"ray\" with floating-point number 5.0 appended...\n",
    "out_ray = np.append(ray, 5.0)\n",
    "\n",
    "print ray\n",
    "out_ray"
   ]
  },
  {
   "cell_type": "markdown",
   "metadata": {},
   "source": [
    "** I then find their corresponding mean and median using the \"mean_med\" function **"
   ]
  },
  {
   "cell_type": "code",
   "execution_count": 4,
   "metadata": {},
   "outputs": [
    {
     "name": "stdout",
     "output_type": "stream",
     "text": [
      "88.6374334712 90.9017663067\n",
      "78.1827542873 89.3061185938\n"
     ]
    }
   ],
   "source": [
    "mean1, med1 = mean_med(ray)\n",
    "mean2, med2 = mean_med(out_ray)\n",
    "print mean1, med1\n",
    "print mean2, med2"
   ]
  },
  {
   "cell_type": "markdown",
   "metadata": {},
   "source": [
    "** I then compare the respective spreads of means and medians **"
   ]
  },
  {
   "cell_type": "code",
   "execution_count": 5,
   "metadata": {},
   "outputs": [
    {
     "name": "stdout",
     "output_type": "stream",
     "text": [
      "The spread of the mean due to the outlier is 10.4546791839\n",
      "The spread of the median due to the outlier is 1.59564771286\n",
      "The outlier affects the mean more\n"
     ]
    }
   ],
   "source": [
    "print \"The spread of the mean due to the outlier is\", abs(mean1-mean2)\n",
    "print \"The spread of the median due to the outlier is\", abs(med1-med2)\n",
    "\n",
    "if abs(mean1-mean2) < abs(med1-med2):\n",
    "    print \"The outlier affects the median more\"\n",
    "elif abs(mean1-mean2) == abs(med1-med2):\n",
    "    print \"Both mean and median are affected equally\"\n",
    "else:\n",
    "    print \"The outlier affects the mean more\""
   ]
  },
  {
   "cell_type": "markdown",
   "metadata": {},
   "source": [
    "** To verify that we introduced an outlier, I use the iqr function defined earlier since our suspected outlier is always the last element of our array, this test will always perform as expected **"
   ]
  },
  {
   "cell_type": "code",
   "execution_count": 6,
   "metadata": {},
   "outputs": [
    {
     "name": "stdout",
     "output_type": "stream",
     "text": [
      "Indeed, we introduced an outlier!\n"
     ]
    }
   ],
   "source": [
    "rng = iqr(out_ray)\n",
    "if out_ray[-1] > 1.5*rng or out_ray[-1] < 1.5*rng:\n",
    "    print \"Indeed, we introduced an outlier!\"\n",
    "else:\n",
    "    print \"The value was not an outlier...\""
   ]
  },
  {
   "cell_type": "markdown",
   "metadata": {
    "collapsed": true
   },
   "source": [
    "Notebook can be found [here.](https://nbviewer.jupyter.org/github/olaoluthomas/MIS637/blob/master/HWK2/outlier_effect.ipynb)"
   ]
  }
 ],
 "metadata": {
  "kernelspec": {
   "display_name": "Python 2",
   "language": "python",
   "name": "python2"
  },
  "language_info": {
   "codemirror_mode": {
    "name": "ipython",
    "version": 2
   },
   "file_extension": ".py",
   "mimetype": "text/x-python",
   "name": "python",
   "nbconvert_exporter": "python",
   "pygments_lexer": "ipython2",
   "version": "2.7.13"
  }
 },
 "nbformat": 4,
 "nbformat_minor": 2
}
